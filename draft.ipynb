{
 "cells": [
  {
   "cell_type": "code",
   "execution_count": 5,
   "metadata": {},
   "outputs": [],
   "source": [
    "from openpyxl import load_workbook\n",
    "\n",
    "# 载入已存在的xlsx文件\n",
    "wb = load_workbook('result_approximate.xlsx')\n",
    "\n",
    "# 选择一个工作表\n",
    "ws = wb.active\n",
    "\n",
    "# 新增的数据（假设是一列数据）\n",
    "new_data = ['Data4', 'Data5', 'Data6']\n",
    "\n",
    "# 写入数据到第A列（你可以更改列名来选择不同的列）\n",
    "for i, item in enumerate(new_data, start=1):  # start=1 表示从第一行开始\n",
    "    ws[f'A{i}'] = item\n",
    "\n",
    "# 保存文件\n",
    "wb.save('result_approximate.xlsx')"
   ]
  }
 ],
 "metadata": {
  "kernelspec": {
   "display_name": "pytorch",
   "language": "python",
   "name": "python3"
  },
  "language_info": {
   "codemirror_mode": {
    "name": "ipython",
    "version": 3
   },
   "file_extension": ".py",
   "mimetype": "text/x-python",
   "name": "python",
   "nbconvert_exporter": "python",
   "pygments_lexer": "ipython3",
   "version": "3.8.17"
  },
  "orig_nbformat": 4
 },
 "nbformat": 4,
 "nbformat_minor": 2
}
