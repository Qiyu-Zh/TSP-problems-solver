{
 "cells": [
  {
   "cell_type": "code",
   "execution_count": 1,
   "metadata": {},
   "outputs": [],
   "source": [
    "import numpy as np\n",
    "import os\n",
    "import time\n",
    "folder = \"Problems\"\n",
    "time_limit = 300"
   ]
  },
  {
   "cell_type": "code",
   "execution_count": 2,
   "metadata": {},
   "outputs": [],
   "source": [
    "def get_all_mst(distances, start_time, time_limit):\n",
    "    n = len(distances)\n",
    "    data = [0]*2**(n-1)\n",
    "    cur = 0\n",
    "    is_used = [False]*n\n",
    "    def dfs(cur, state, value, rest_locations, cost):\n",
    "        data[state] = value\n",
    "        m = len(rest_locations)\n",
    "        if m == 0:\n",
    "            return\n",
    "        for i in rest_locations:\n",
    "            cost[i] = min(cost[i], distances[i+1][cur+1])\n",
    "        rest_locations.sort(key = lambda x: cost[x], reverse = True)\n",
    "        for _ in range(m):\n",
    "            if time.time() - start_time > time_limit:\n",
    "                return\n",
    "            next = rest_locations.pop()\n",
    "            \n",
    "            dfs(next, state + 2**next, value + cost[next],rest_locations[:], cost[:])\n",
    "    dfs(-1, 0, 0, list(np.arange(n-1)), [np.inf]*(n-1))\n",
    "    return data"
   ]
  },
  {
   "cell_type": "code",
   "execution_count": 3,
   "metadata": {},
   "outputs": [
    {
     "name": "stdout",
     "output_type": "stream",
     "text": [
      "Test with number of 10 begin!\n",
      "ans is: 469.78, route is: 0->6->5->4->2->8->3->9->1->7->0\n",
      "ans is: 449.22, route is: 0->5->4->2->7->9->3->8->6->1->0\n",
      "ans is: 416.75, route is: 0->2->4->6->8->5->7->1->9->3->0\n",
      "ans is: 506.28, route is: 0->2->6->4->5->7->1->3->8->9->0\n",
      "ans is: 518.05, route is: 0->9->2->8->5->1->3->4->7->6->0\n",
      "ans is: 420.27, route is: 0->3->7->6->5->9->4->8->2->1->0\n",
      "ans is: 547.28, route is: 0->7->6->1->4->2->8->3->5->9->0\n",
      "ans is: 484.33, route is: 0->2->6->9->8->1->4->3->5->7->0\n",
      "ans is: 735.16, route is: 0->6->9->8->5->4->7->3->2->1->0\n",
      "ans is: 470.02, route is: 0->8->1->6->4->5->3->9->7->2->0\n",
      "\n",
      "\n",
      "Test with number of 20 begin!\n",
      "ans is: 734.74, route is: 0->12->7->11->3->2->19->5->14->8->18->9->16->6->13->1->15->17->10->4->0\n",
      "ans is: 638.5, route is: 0->8->1->19->6->4->15->9->3->13->17->10->7->2->18->14->5->16->12->11->0\n",
      "ans is: 733.38, route is: 0->9->4->8->10->16->5->2->15->1->17->6->14->19->3->13->11->18->12->7->0\n",
      "ans is: 455.43, route is: 0->16->11->9->8->12->18->1->6->13->10->15->3->2->19->4->14->17->5->7->0\n",
      "ans is: 687.73, route is: 0->4->19->3->11->2->14->6->9->5->18->10->13->17->15->8->7->12->1->16->0\n",
      "ans is: 730.92, route is: 0->12->5->7->18->13->8->16->17->9->11->3->15->19->6->14->10->2->4->1->0\n",
      "ans is: 757.45, route is: 0->8->6->18->7->16->1->5->4->15->11->2->10->3->9->14->13->12->17->19->0\n",
      "ans is: 665.55, route is: 0->14->7->10->4->3->18->16->13->6->11->15->19->17->2->1->5->9->8->12->0\n",
      "ans is: 519.29, route is: 0->14->8->5->9->11->6->10->15->3->13->18->19->17->16->12->7->4->2->1->0\n",
      "ans is: 612.7, route is: 0->1->8->14->15->9->16->3->2->7->13->6->12->5->4->18->19->11->10->17->0\n",
      "\n",
      "\n",
      "Test with number of 30 begin!\n",
      "ans is: 711.61, route is: 0->18->24->2->11->22->13->28->16->27->3->15->25->20->23->12->4->7->19->14->21->10->5->1->9->17->6->8->26->29->0\n",
      "ans is: 782.0, route is: 0->22->26->9->28->25->14->12->2->13->15->16->21->4->27->6->11->7->24->19->20->18->10->1->3->23->17->5->29->8->0\n",
      "ans is: 897.96, route is: 0->29->28->2->23->24->18->19->6->10->4->12->26->5->11->1->14->20->16->13->27->9->17->3->7->21->8->25->22->15->0\n",
      "ans is: 931.81, route is: 0->5->20->29->25->8->13->24->7->15->22->17->16->6->12->1->3->28->11->27->4->14->21->9->10->23->2->18->26->19->0\n",
      "ans is: 836.81, route is: 0->23->26->21->27->18->10->12->1->17->15->9->13->11->14->16->20->8->28->19->29->3->5->25->4->7->24->22->6->2->0\n",
      "ans is: 639.94, route is: 0->14->11->25->9->3->12->24->28->17->10->2->5->22->18->1->6->23->7->26->8->19->29->21->15->13->4->16->27->20->0\n",
      "ans is: 767.33, route is: 0->16->29->1->11->9->5->15->25->6->27->17->19->21->7->4->8->20->22->26->28->18->2->13->10->14->23->12->24->3->0\n",
      "ans is: 756.28, route is: 0->6->28->24->11->20->13->1->17->29->15->2->14->16->10->21->23->25->27->22->4->7->12->26->18->19->9->3->5->8->0\n",
      "ans is: 811.96, route is: 0->4->29->27->3->2->10->24->23->11->5->17->8->9->1->12->20->19->13->26->18->16->22->25->6->21->28->7->14->15->0\n"
     ]
    },
    {
     "ename": "MemoryError",
     "evalue": "",
     "output_type": "error",
     "traceback": [
      "\u001b[1;31m---------------------------------------------------------------------------\u001b[0m",
      "\u001b[1;31mMemoryError\u001b[0m                               Traceback (most recent call last)",
      "Cell \u001b[1;32mIn[3], line 20\u001b[0m\n\u001b[0;32m     17\u001b[0m         distances[i][j] \u001b[39m=\u001b[39m data[i\u001b[39m*\u001b[39mnumber\u001b[39m+\u001b[39mj\u001b[39m+\u001b[39m\u001b[39m1\u001b[39m]\n\u001b[0;32m     18\u001b[0m distances_order \u001b[39m=\u001b[39m [\u001b[39msorted\u001b[39m(np\u001b[39m.\u001b[39marange(number), key \u001b[39m=\u001b[39m \u001b[39mlambda\u001b[39;00m x: distances[x][i]) \u001b[39mfor\u001b[39;00m i \u001b[39min\u001b[39;00m \u001b[39mrange\u001b[39m(number)]\n\u001b[1;32m---> 20\u001b[0m data \u001b[39m=\u001b[39m get_all_mst(distances, start_time, time_limit\u001b[39m/\u001b[39;49m\u001b[39m2\u001b[39;49m)\n\u001b[0;32m     22\u001b[0m Is_been_to \u001b[39m=\u001b[39m [\u001b[39mFalse\u001b[39;00m]\u001b[39m*\u001b[39mnumber\n\u001b[0;32m     23\u001b[0m Is_been_to[\u001b[39m0\u001b[39m] \u001b[39m=\u001b[39m \u001b[39mTrue\u001b[39;00m\n",
      "Cell \u001b[1;32mIn[2], line 3\u001b[0m, in \u001b[0;36mget_all_mst\u001b[1;34m(distances, start_time, time_limit)\u001b[0m\n\u001b[0;32m      1\u001b[0m \u001b[39mdef\u001b[39;00m \u001b[39mget_all_mst\u001b[39m(distances, start_time, time_limit):\n\u001b[0;32m      2\u001b[0m     n \u001b[39m=\u001b[39m \u001b[39mlen\u001b[39m(distances)\n\u001b[1;32m----> 3\u001b[0m     data \u001b[39m=\u001b[39m [\u001b[39m0\u001b[39;49m]\u001b[39m*\u001b[39;49m\u001b[39m2\u001b[39;49m\u001b[39m*\u001b[39;49m\u001b[39m*\u001b[39;49m(n\u001b[39m-\u001b[39;49m\u001b[39m1\u001b[39;49m)\n\u001b[0;32m      4\u001b[0m     cur \u001b[39m=\u001b[39m \u001b[39m0\u001b[39m\n\u001b[0;32m      5\u001b[0m     is_used \u001b[39m=\u001b[39m [\u001b[39mFalse\u001b[39;00m]\u001b[39m*\u001b[39mn\n",
      "\u001b[1;31mMemoryError\u001b[0m: "
     ]
    }
   ],
   "source": [
    "result = [[] for _ in os.listdir(folder)]\n",
    "is_terminate = [False for _ in os.listdir(folder)]\n",
    "for step, dirs in enumerate(sorted(os.listdir(folder), key = lambda x: int(x))):\n",
    "    print(\"Test with number of {} begin!\".format(dirs))\n",
    "    cur_dir = os.path.join(folder, dirs)\n",
    "    count = 0\n",
    "    for files in os.listdir(cur_dir):\n",
    "        start_time = time.time()\n",
    "        path = os.path.join(cur_dir, files)\n",
    "        with open(path, 'r', encoding='utf-8') as file:\n",
    "            content = file.read().split()\n",
    "            data = list(map(float, content))\n",
    "            number = int(data[0])\n",
    "            distances = np.zeros((number,number))\n",
    "        for i in range(number):\n",
    "            for j in range(number):\n",
    "                distances[i][j] = data[i*number+j+1]\n",
    "        distances_order = [sorted(np.arange(number), key = lambda x: distances[x][i]) for i in range(number)]\n",
    "        \n",
    "        data = get_all_mst(distances, start_time, time_limit/2)\n",
    "    \n",
    "        Is_been_to = [False]*number\n",
    "        Is_been_to[0] = True\n",
    "        cur_route = [0]\n",
    "        ans = [np.inf]\n",
    "        ans_route = [\"\"]\n",
    "        terminate = [False]\n",
    "        def dfs(cur, step, cur_sum, state):\n",
    "\n",
    "            if time.time() - start_time > time_limit:\n",
    "                terminate[0] = True\n",
    "            if step == number-1:\n",
    "                \n",
    "                if ans[0] > cur_sum + distances[cur][0]:\n",
    "                    ans[0] = cur_sum + distances[cur][0]\n",
    "                    cur_route.append(0)\n",
    "                    ans_route[0] = \"->\".join(map(str, cur_route))\n",
    "                    cur_route.pop()\n",
    "                return\n",
    "            \n",
    "            \n",
    "            Is_been_to[cur] = True\n",
    "            if cur != 0:\n",
    "                state = state ^ (1 << (cur-1))\n",
    "            hubrist = data[state]\n",
    "            for i in distances_order[cur]:\n",
    "                if terminate[0]:\n",
    "                    return \n",
    "                if Is_been_to[i] == False and cur_sum+distances[cur][i] + hubrist < ans[0]:\n",
    "                    \n",
    "                    cur_route.append(i)\n",
    "                    dfs(i, step+1, cur_sum+distances[cur][i], state)\n",
    "                    \n",
    "                    cur_route.pop() \n",
    "            Is_been_to[cur] = False\n",
    "        dfs(0,0,0,2**(number-1)-1)\n",
    "        print(\"ans is: {}, route is: {}\".format(np.round(ans[0], 2), ans_route[0]))\n",
    "        result[step].append(ans[0])\n",
    "    print()\n",
    "    print()\n",
    "    \n"
   ]
  },
  {
   "cell_type": "code",
   "execution_count": 6,
   "metadata": {},
   "outputs": [
    {
     "data": {
      "text/plain": [
       "10"
      ]
     },
     "execution_count": 6,
     "metadata": {},
     "output_type": "execute_result"
    }
   ],
   "source": [
    "count"
   ]
  },
  {
   "cell_type": "code",
   "execution_count": 5,
   "metadata": {},
   "outputs": [],
   "source": [
    "from openpyxl import load_workbook\n",
    "\n",
    "# 载入已存在的xlsx文件\n",
    "wb = load_workbook('result.xlsx')\n",
    "\n",
    "# 选择一个工作表\n",
    "ws = wb[\"Accurate\"]\n",
    "\n",
    "# 写入数据到第A列（你可以更改列名来选择不同的列）\n",
    "ws[f'A{1}'] = \"MST2\"\n",
    "for i, item in enumerate(result, start=2):  # start=1 表示从第一行开始\n",
    "    ws[f'A{i}'] = np.mean(item)\n",
    "# 保存文件\n",
    "wb.save('result.xlsx')"
   ]
  }
 ],
 "metadata": {
  "kernelspec": {
   "display_name": "pytorch",
   "language": "python",
   "name": "python3"
  },
  "language_info": {
   "codemirror_mode": {
    "name": "ipython",
    "version": 3
   },
   "file_extension": ".py",
   "mimetype": "text/x-python",
   "name": "python",
   "nbconvert_exporter": "python",
   "pygments_lexer": "ipython3",
   "version": "3.8.17"
  }
 },
 "nbformat": 4,
 "nbformat_minor": 2
}
